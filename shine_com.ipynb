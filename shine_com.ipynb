{
 "cells": [
  {
   "cell_type": "markdown",
   "metadata": {},
   "source": [
    "### Import Libraries"
   ]
  },
  {
   "cell_type": "code",
   "execution_count": 83,
   "metadata": {},
   "outputs": [],
   "source": [
    "# importing the Libraries\n",
    "import requests\n",
    "import bs4\n",
    "from bs4 import BeautifulSoup\n",
    "import pandas as pd\n",
    "import time"
   ]
  },
  {
   "cell_type": "markdown",
   "metadata": {},
   "source": [
    "### What we want to scrape"
   ]
  },
  {
   "cell_type": "code",
   "execution_count": 84,
   "metadata": {},
   "outputs": [],
   "source": [
    "# defining empty lists for each job details\n",
    "job_name = []\n",
    "company_name = []\n",
    "experience = []\n",
    "when_posted = []\n",
    "city =[]\n",
    "job_url =[]"
   ]
  },
  {
   "cell_type": "markdown",
   "metadata": {},
   "source": [
    "### Scraping the data"
   ]
  },
  {
   "cell_type": "code",
   "execution_count": 85,
   "metadata": {},
   "outputs": [],
   "source": [
    "# Running it on 100 pages \n",
    "pages = [*range(1, 101, 1)]\n",
    "\n",
    "# looping over each page\n",
    "for page in pages:\n",
    "    #creating urls for each page\n",
    "    sources = requests.get('https://www.shine.com/job-search/jobs-in-mumbai-{}'.format(page)+'?loc=Mumbai')\n",
    "    \n",
    "    #parsing the whole page\n",
    "    soup = BeautifulSoup(sources.content,\"html.parser\")\n",
    "    \n",
    "    # looping over each card in a single page\n",
    "    for card in soup.findAll( 'li',{\"itemprop\":\"itemListElement\"}):\n",
    "        \n",
    "        # getting the job_tiles from each card and appending in the job_name list\n",
    "        for a in card.findAll('a','job_title_anchor'):\n",
    "            try:\n",
    "                job_name.append(a.text)\n",
    "            except:\n",
    "                job_name = \"\"\n",
    "\n",
    "        # getting the company names from each card and appending in the company_name list\n",
    "        for b in card.findAll('span',\"result-display__profile__company-name\"):\n",
    "            try:\n",
    "                company_name.append(b.text.strip())\n",
    "            except:\n",
    "                company_name = \"\"\n",
    "\n",
    "        # getting the job_tiles from each card and appending in the job_name list\n",
    "        for c in card.findAll('li',\"w-30 mr-10 result-display__profile__years\"):\n",
    "            try:\n",
    "                experience.append(c.text.strip())\n",
    "            except:\n",
    "                experience = \"\"\n",
    "\n",
    "        # getting when the job was posted from each card and appending in the when_posted list\n",
    "        for d in card.findAll('li',\"w-30 mr-10 result-display__profile__date\"):\n",
    "            try:\n",
    "                when_posted.append(d.text.strip())\n",
    "            except:\n",
    "                when_posted = \"\"\n",
    "\n",
    "        # getting the job_url from each card and appending in the job_url list\n",
    "        for e in card.findAll('a','job_title_anchor'):\n",
    "            try:\n",
    "                job_url.append(\"https://www.shine.com\" + e.get('href'))\n",
    "            except:\n",
    "                job_url = \"\""
   ]
  },
  {
   "cell_type": "markdown",
   "metadata": {},
   "source": [
    "### Creating dataframe from the scraped data"
   ]
  },
  {
   "cell_type": "code",
   "execution_count": 86,
   "metadata": {},
   "outputs": [],
   "source": [
    "# creating the dataframe and assigning each column with the data from the lists \n",
    "\n",
    "df = pd.DataFrame({\n",
    "    'job_title': job_name,\n",
    "    'company_name':company_name,\n",
    "    'experience':experience,\n",
    "    'when_posted':when_posted,\n",
    "    'job_url':job_url\n",
    "    })\n"
   ]
  },
  {
   "cell_type": "code",
   "execution_count": 87,
   "metadata": {},
   "outputs": [
    {
     "name": "stdout",
     "output_type": "stream",
     "text": [
      "(2000, 5)\n"
     ]
    },
    {
     "data": {
      "text/html": [
       "<div>\n",
       "<style scoped>\n",
       "    .dataframe tbody tr th:only-of-type {\n",
       "        vertical-align: middle;\n",
       "    }\n",
       "\n",
       "    .dataframe tbody tr th {\n",
       "        vertical-align: top;\n",
       "    }\n",
       "\n",
       "    .dataframe thead th {\n",
       "        text-align: right;\n",
       "    }\n",
       "</style>\n",
       "<table border=\"1\" class=\"dataframe\">\n",
       "  <thead>\n",
       "    <tr style=\"text-align: right;\">\n",
       "      <th></th>\n",
       "      <th>job_title</th>\n",
       "      <th>company_name</th>\n",
       "      <th>experience</th>\n",
       "      <th>when_posted</th>\n",
       "      <th>job_url</th>\n",
       "    </tr>\n",
       "  </thead>\n",
       "  <tbody>\n",
       "    <tr>\n",
       "      <th>0</th>\n",
       "      <td>Business analyst -Taxation</td>\n",
       "      <td>Infosys Limited</td>\n",
       "      <td>4 to 6 Yrs</td>\n",
       "      <td>2 Hours ago</td>\n",
       "      <td>https://www.shine.com/jobs/business-analyst-ta...</td>\n",
       "    </tr>\n",
       "    <tr>\n",
       "      <th>1</th>\n",
       "      <td>Hiring For India's biggest online investment p...</td>\n",
       "      <td>Quess Corp (Magna Infotech)</td>\n",
       "      <td>1 to 5 Yrs</td>\n",
       "      <td>5 Hours ago</td>\n",
       "      <td>https://www.shine.com/jobs/hiring-for-indias-b...</td>\n",
       "    </tr>\n",
       "    <tr>\n",
       "      <th>2</th>\n",
       "      <td>Webmethods Developer</td>\n",
       "      <td>HARJAI COMPUTERS PRIVATE LIMITED</td>\n",
       "      <td>3 to 8 Yrs</td>\n",
       "      <td>18 Hours ago</td>\n",
       "      <td>https://www.shine.com/jobs/webmethods-develope...</td>\n",
       "    </tr>\n",
       "    <tr>\n",
       "      <th>3</th>\n",
       "      <td>Urgent Hiring for Sr.Relationship Manager Nort...</td>\n",
       "      <td>RELIANCE NIPPON LIFE INSURANCE COMPANY LIMITED</td>\n",
       "      <td>1 to 6 Yrs</td>\n",
       "      <td>18 Hours ago</td>\n",
       "      <td>https://www.shine.com/jobs/urgent-hiring-for-s...</td>\n",
       "    </tr>\n",
       "    <tr>\n",
       "      <th>4</th>\n",
       "      <td>Urgent Hiring for Deputy Chief Manager Sustain...</td>\n",
       "      <td>Aditya Birla Management Corporation Pvt. Ltd.</td>\n",
       "      <td>5 to 8 Yrs</td>\n",
       "      <td>18 Hours ago</td>\n",
       "      <td>https://www.shine.com/jobs/urgent-hiring-for-d...</td>\n",
       "    </tr>\n",
       "  </tbody>\n",
       "</table>\n",
       "</div>"
      ],
      "text/plain": [
       "                                           job_title  \\\n",
       "0                         Business analyst -Taxation   \n",
       "1  Hiring For India's biggest online investment p...   \n",
       "2                               Webmethods Developer   \n",
       "3  Urgent Hiring for Sr.Relationship Manager Nort...   \n",
       "4  Urgent Hiring for Deputy Chief Manager Sustain...   \n",
       "\n",
       "                                     company_name  experience   when_posted  \\\n",
       "0                                 Infosys Limited  4 to 6 Yrs   2 Hours ago   \n",
       "1                     Quess Corp (Magna Infotech)  1 to 5 Yrs   5 Hours ago   \n",
       "2                HARJAI COMPUTERS PRIVATE LIMITED  3 to 8 Yrs  18 Hours ago   \n",
       "3  RELIANCE NIPPON LIFE INSURANCE COMPANY LIMITED  1 to 6 Yrs  18 Hours ago   \n",
       "4   Aditya Birla Management Corporation Pvt. Ltd.  5 to 8 Yrs  18 Hours ago   \n",
       "\n",
       "                                             job_url  \n",
       "0  https://www.shine.com/jobs/business-analyst-ta...  \n",
       "1  https://www.shine.com/jobs/hiring-for-indias-b...  \n",
       "2  https://www.shine.com/jobs/webmethods-develope...  \n",
       "3  https://www.shine.com/jobs/urgent-hiring-for-s...  \n",
       "4  https://www.shine.com/jobs/urgent-hiring-for-d...  "
      ]
     },
     "execution_count": 87,
     "metadata": {},
     "output_type": "execute_result"
    }
   ],
   "source": [
    "# printing the dataframe and its shape\n",
    "print(df.shape)\n",
    "df.head()"
   ]
  },
  {
   "cell_type": "markdown",
   "metadata": {},
   "source": [
    "### csv file generated"
   ]
  },
  {
   "cell_type": "code",
   "execution_count": 88,
   "metadata": {},
   "outputs": [],
   "source": [
    "# saving the dataframe as csv file\n",
    "df.to_csv('shine_data.csv')"
   ]
  },
  {
   "cell_type": "code",
   "execution_count": null,
   "metadata": {},
   "outputs": [],
   "source": []
  }
 ],
 "metadata": {
  "kernelspec": {
   "display_name": "Python 3",
   "language": "python",
   "name": "python3"
  },
  "language_info": {
   "codemirror_mode": {
    "name": "ipython",
    "version": 3
   },
   "file_extension": ".py",
   "mimetype": "text/x-python",
   "name": "python",
   "nbconvert_exporter": "python",
   "pygments_lexer": "ipython3",
   "version": "3.8.5"
  }
 },
 "nbformat": 4,
 "nbformat_minor": 4
}
