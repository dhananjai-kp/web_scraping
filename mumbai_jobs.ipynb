{
 "cells": [
  {
   "cell_type": "markdown",
   "metadata": {},
   "source": [
    "### Import Libraries"
   ]
  },
  {
   "cell_type": "code",
   "execution_count": 1,
   "metadata": {},
   "outputs": [],
   "source": [
    "# importing the Libraries\n",
    "import requests\n",
    "import bs4\n",
    "from bs4 import BeautifulSoup\n",
    "import pandas as pd\n",
    "import time"
   ]
  },
  {
   "cell_type": "markdown",
   "metadata": {},
   "source": [
    "### What we want to scrape"
   ]
  },
  {
   "cell_type": "code",
   "execution_count": 2,
   "metadata": {},
   "outputs": [],
   "source": [
    "# defining empty lists for each job details\n",
    "job_name = []\n",
    "company_name = []\n",
    "experience = []\n",
    "when_posted = []\n",
    "job_url =[]"
   ]
  },
  {
   "cell_type": "markdown",
   "metadata": {},
   "source": [
    "### Scraping the data"
   ]
  },
  {
   "cell_type": "code",
   "execution_count": 3,
   "metadata": {},
   "outputs": [],
   "source": [
    "# Running it on 100 pages \n",
    "pages = [*range(1, 1001, 1)]\n",
    "\n",
    "# looping over each page\n",
    "for page in pages:\n",
    "    #creating urls for each page\n",
    "    sources = requests.get('https://www.shine.com/job-search/jobs-in-mumbai-{}'.format(page)+'?loc=Mumbai')\n",
    "    \n",
    "    #parsing the whole page\n",
    "    soup = BeautifulSoup(sources.content,\"html.parser\")\n",
    "    \n",
    "    # looping over each card in a single page\n",
    "    for card in soup.findAll( 'li',{\"itemprop\":\"itemListElement\"}):\n",
    "        \n",
    "        # getting the job_tiles from each card and appending in the job_name list\n",
    "        for a in card.findAll('a','job_title_anchor'):\n",
    "            try:\n",
    "                job_name.append(a.text)\n",
    "            except:\n",
    "                job_name = \"\"\n",
    "\n",
    "        # getting the company names from each card and appending in the company_name list\n",
    "        for b in card.findAll('span',\"result-display__profile__company-name\"):\n",
    "            try:\n",
    "                company_name.append(b.text.strip())\n",
    "            except:\n",
    "                company_name = \"\"\n",
    "\n",
    "        # getting the job_tiles from each card and appending in the job_name list\n",
    "        for c in card.findAll('li',\"w-30 mr-10 result-display__profile__years\"):\n",
    "            try:\n",
    "                experience.append(c.text.strip())\n",
    "            except:\n",
    "                experience = \"\"\n",
    "\n",
    "        # getting when the job was posted from each card and appending in the when_posted list\n",
    "        for d in card.findAll('li',\"w-30 mr-10 result-display__profile__date\"):\n",
    "            try:\n",
    "                when_posted.append(d.text.strip())\n",
    "            except:\n",
    "                when_posted = \"\"\n",
    "\n",
    "        # getting the job_url from each card and appending in the job_url list\n",
    "        for e in card.findAll('a','job_title_anchor'):\n",
    "            try:\n",
    "                job_url.append(\"https://www.shine.com\" + e.get('href'))\n",
    "            except:\n",
    "                job_url = \"\""
   ]
  },
  {
   "cell_type": "markdown",
   "metadata": {},
   "source": [
    "### Creating dataframe from the scraped data"
   ]
  },
  {
   "cell_type": "code",
   "execution_count": 4,
   "metadata": {},
   "outputs": [],
   "source": [
    "# creating the dataframe and assigning each column with the data from the lists \n",
    "\n",
    "df = pd.DataFrame({\n",
    "    'job_title': job_name,\n",
    "    'company_name':company_name,\n",
    "    'experience':experience,\n",
    "    'when_posted':when_posted,\n",
    "    'job_url':job_url\n",
    "    })\n"
   ]
  },
  {
   "cell_type": "code",
   "execution_count": 10,
   "metadata": {},
   "outputs": [
    {
     "name": "stdout",
     "output_type": "stream",
     "text": [
      "(20000, 5)\n"
     ]
    },
    {
     "data": {
      "text/html": [
       "<div>\n",
       "<style scoped>\n",
       "    .dataframe tbody tr th:only-of-type {\n",
       "        vertical-align: middle;\n",
       "    }\n",
       "\n",
       "    .dataframe tbody tr th {\n",
       "        vertical-align: top;\n",
       "    }\n",
       "\n",
       "    .dataframe thead th {\n",
       "        text-align: right;\n",
       "    }\n",
       "</style>\n",
       "<table border=\"1\" class=\"dataframe\">\n",
       "  <thead>\n",
       "    <tr style=\"text-align: right;\">\n",
       "      <th></th>\n",
       "      <th>job_title</th>\n",
       "      <th>company_name</th>\n",
       "      <th>experience</th>\n",
       "      <th>when_posted</th>\n",
       "      <th>job_url</th>\n",
       "    </tr>\n",
       "  </thead>\n",
       "  <tbody>\n",
       "    <tr>\n",
       "      <th>19500</th>\n",
       "      <td>STORES IN CHARGE</td>\n",
       "      <td>Modest Infrastructure Ltd.</td>\n",
       "      <td>5 to 12 Yrs</td>\n",
       "      <td>Jan 01, 2021</td>\n",
       "      <td>https://www.shine.com/jobs/stores-in-charge/mo...</td>\n",
       "    </tr>\n",
       "    <tr>\n",
       "      <th>19501</th>\n",
       "      <td>Content Writer</td>\n",
       "      <td>Webart Softech</td>\n",
       "      <td>2 to 4 Yrs</td>\n",
       "      <td>Feb 03, 2021</td>\n",
       "      <td>https://www.shine.com/jobs/content-writer/weba...</td>\n",
       "    </tr>\n",
       "    <tr>\n",
       "      <th>19502</th>\n",
       "      <td>Support Executive</td>\n",
       "      <td>Comprompt Solutions</td>\n",
       "      <td>2 to 6 Yrs</td>\n",
       "      <td>Feb 03, 2021</td>\n",
       "      <td>https://www.shine.com/jobs/support-executive/c...</td>\n",
       "    </tr>\n",
       "    <tr>\n",
       "      <th>19503</th>\n",
       "      <td>Content Market Lead</td>\n",
       "      <td>SDL Multilingual Solutions, Pvt Ltd</td>\n",
       "      <td>8 Yrs</td>\n",
       "      <td>Jan 01, 2021</td>\n",
       "      <td>https://www.shine.com/jobs/content-market-lead...</td>\n",
       "    </tr>\n",
       "    <tr>\n",
       "      <th>19504</th>\n",
       "      <td>Test Lead/Senior Test Analyst - Application Pe...</td>\n",
       "      <td>Rave Technologies Pvt. Ltd</td>\n",
       "      <td>6 to 11 Yrs</td>\n",
       "      <td>Jan 01, 2021</td>\n",
       "      <td>https://www.shine.com/jobs/test-leadsenior-tes...</td>\n",
       "    </tr>\n",
       "    <tr>\n",
       "      <th>...</th>\n",
       "      <td>...</td>\n",
       "      <td>...</td>\n",
       "      <td>...</td>\n",
       "      <td>...</td>\n",
       "      <td>...</td>\n",
       "    </tr>\n",
       "    <tr>\n",
       "      <th>19995</th>\n",
       "      <td>Systems / Server Engineers</td>\n",
       "      <td>CompuWorldOnline</td>\n",
       "      <td>2 to 6 Yrs</td>\n",
       "      <td>Sep 26, 2019</td>\n",
       "      <td>https://www.shine.com/jobs/systems-server-engi...</td>\n",
       "    </tr>\n",
       "    <tr>\n",
       "      <th>19996</th>\n",
       "      <td>Sales Executive</td>\n",
       "      <td>Technotronics Global Security Solution</td>\n",
       "      <td>1 to 5 Yrs</td>\n",
       "      <td>Sep 26, 2019</td>\n",
       "      <td>https://www.shine.com/jobs/sales-executive/tec...</td>\n",
       "    </tr>\n",
       "    <tr>\n",
       "      <th>19997</th>\n",
       "      <td>Cyber Security Trainer</td>\n",
       "      <td>Technotronics Global Security Solution</td>\n",
       "      <td>1 to 5 Yrs</td>\n",
       "      <td>Sep 26, 2019</td>\n",
       "      <td>https://www.shine.com/jobs/cyber-security-trai...</td>\n",
       "    </tr>\n",
       "    <tr>\n",
       "      <th>19998</th>\n",
       "      <td>Social Media Marketing</td>\n",
       "      <td>Wera Food Technology</td>\n",
       "      <td>2 to 5 Yrs</td>\n",
       "      <td>Sep 26, 2019</td>\n",
       "      <td>https://www.shine.com/jobs/social-media-market...</td>\n",
       "    </tr>\n",
       "    <tr>\n",
       "      <th>19999</th>\n",
       "      <td>Reporters for Mumbai</td>\n",
       "      <td>Saffron Media Pvt Ltd (Pharmabiz.com)</td>\n",
       "      <td>1 to 2 Yrs</td>\n",
       "      <td>Sep 26, 2019</td>\n",
       "      <td>https://www.shine.com/jobs/reporters-for-mumba...</td>\n",
       "    </tr>\n",
       "  </tbody>\n",
       "</table>\n",
       "<p>500 rows × 5 columns</p>\n",
       "</div>"
      ],
      "text/plain": [
       "                                               job_title  \\\n",
       "19500                                   STORES IN CHARGE   \n",
       "19501                                     Content Writer   \n",
       "19502                                  Support Executive   \n",
       "19503                                Content Market Lead   \n",
       "19504  Test Lead/Senior Test Analyst - Application Pe...   \n",
       "...                                                  ...   \n",
       "19995                         Systems / Server Engineers   \n",
       "19996                                    Sales Executive   \n",
       "19997                             Cyber Security Trainer   \n",
       "19998                             Social Media Marketing   \n",
       "19999                               Reporters for Mumbai   \n",
       "\n",
       "                                 company_name   experience   when_posted  \\\n",
       "19500              Modest Infrastructure Ltd.  5 to 12 Yrs  Jan 01, 2021   \n",
       "19501                          Webart Softech   2 to 4 Yrs  Feb 03, 2021   \n",
       "19502                     Comprompt Solutions   2 to 6 Yrs  Feb 03, 2021   \n",
       "19503     SDL Multilingual Solutions, Pvt Ltd        8 Yrs  Jan 01, 2021   \n",
       "19504              Rave Technologies Pvt. Ltd  6 to 11 Yrs  Jan 01, 2021   \n",
       "...                                       ...          ...           ...   \n",
       "19995                        CompuWorldOnline   2 to 6 Yrs  Sep 26, 2019   \n",
       "19996  Technotronics Global Security Solution   1 to 5 Yrs  Sep 26, 2019   \n",
       "19997  Technotronics Global Security Solution   1 to 5 Yrs  Sep 26, 2019   \n",
       "19998                    Wera Food Technology   2 to 5 Yrs  Sep 26, 2019   \n",
       "19999   Saffron Media Pvt Ltd (Pharmabiz.com)   1 to 2 Yrs  Sep 26, 2019   \n",
       "\n",
       "                                                 job_url  \n",
       "19500  https://www.shine.com/jobs/stores-in-charge/mo...  \n",
       "19501  https://www.shine.com/jobs/content-writer/weba...  \n",
       "19502  https://www.shine.com/jobs/support-executive/c...  \n",
       "19503  https://www.shine.com/jobs/content-market-lead...  \n",
       "19504  https://www.shine.com/jobs/test-leadsenior-tes...  \n",
       "...                                                  ...  \n",
       "19995  https://www.shine.com/jobs/systems-server-engi...  \n",
       "19996  https://www.shine.com/jobs/sales-executive/tec...  \n",
       "19997  https://www.shine.com/jobs/cyber-security-trai...  \n",
       "19998  https://www.shine.com/jobs/social-media-market...  \n",
       "19999  https://www.shine.com/jobs/reporters-for-mumba...  \n",
       "\n",
       "[500 rows x 5 columns]"
      ]
     },
     "execution_count": 10,
     "metadata": {},
     "output_type": "execute_result"
    }
   ],
   "source": [
    "# printing the dataframe and its shape\n",
    "print(df.shape)\n",
    "df.tail(500)"
   ]
  },
  {
   "cell_type": "markdown",
   "metadata": {},
   "source": [
    "### csv file generated"
   ]
  },
  {
   "cell_type": "code",
   "execution_count": 6,
   "metadata": {},
   "outputs": [],
   "source": [
    "# saving the dataframe as csv file\n",
    "df.to_csv('mumbai_jobs_data.csv')"
   ]
  }
 ],
 "metadata": {
  "kernelspec": {
   "display_name": "Python 3",
   "language": "python",
   "name": "python3"
  },
  "language_info": {
   "codemirror_mode": {
    "name": "ipython",
    "version": 3
   },
   "file_extension": ".py",
   "mimetype": "text/x-python",
   "name": "python",
   "nbconvert_exporter": "python",
   "pygments_lexer": "ipython3",
   "version": "3.8.5"
  }
 },
 "nbformat": 4,
 "nbformat_minor": 4
}
